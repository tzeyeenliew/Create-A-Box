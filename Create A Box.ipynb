{
 "cells": [
  {
   "cell_type": "code",
   "execution_count": 20,
   "id": "da9879c8",
   "metadata": {},
   "outputs": [],
   "source": [
    "def create_a_goddamn_box(num):\n",
    "    if num < 2 or num > 30:\n",
    "        return []\n",
    "\n",
    "    horizontal_border = ' ' + '-' * (num - 2)\n",
    "    vertical_border = '|' + ' ' * (num - 2) + '|'\n",
    "\n",
    "    box = [horizontal_border]\n",
    "    for _ in range(num - 2):\n",
    "        box.append(vertical_border)\n",
    "    box.append(horizontal_border)\n",
    "\n",
    "    return box"
   ]
  },
  {
   "cell_type": "code",
   "execution_count": 21,
   "id": "a4c67907",
   "metadata": {},
   "outputs": [
    {
     "data": {
      "text/plain": [
       "[' --------',\n",
       " '|        |',\n",
       " '|        |',\n",
       " '|        |',\n",
       " '|        |',\n",
       " '|        |',\n",
       " '|        |',\n",
       " '|        |',\n",
       " '|        |',\n",
       " ' --------']"
      ]
     },
     "execution_count": 21,
     "metadata": {},
     "output_type": "execute_result"
    }
   ],
   "source": [
    "create_a_goddamn_box(10)"
   ]
  },
  {
   "cell_type": "code",
   "execution_count": null,
   "id": "60917510",
   "metadata": {},
   "outputs": [],
   "source": []
  }
 ],
 "metadata": {},
 "nbformat": 4,
 "nbformat_minor": 5
}
